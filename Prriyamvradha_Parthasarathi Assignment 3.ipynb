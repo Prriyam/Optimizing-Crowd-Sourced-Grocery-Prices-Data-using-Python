{
 "cells": [
  {
   "cell_type": "markdown",
   "id": "19213943-e279-4b5e-a661-ea6eb9cb8faa",
   "metadata": {},
   "source": [
    "# MIS 6380 – Data Visualization - Assignment – 3"
   ]
  },
  {
   "cell_type": "markdown",
   "id": "d3b26a4f-006c-45a4-a87e-8cd51f59c33a",
   "metadata": {},
   "source": [
    "# Step 1: Import the required libraries "
   ]
  },
  {
   "cell_type": "markdown",
   "id": "92024843-a296-4229-b658-0968410c01af",
   "metadata": {},
   "source": [
    "# Importing Requirements"
   ]
  },
  {
   "cell_type": "code",
   "execution_count": 1,
   "id": "b3acfd8d-9516-4888-bd0a-363818d0cf0a",
   "metadata": {},
   "outputs": [
    {
     "data": {
      "text/html": [
       "<style>.container {width:100% !important; }</style>"
      ],
      "text/plain": [
       "<IPython.core.display.HTML object>"
      ]
     },
     "metadata": {},
     "output_type": "display_data"
    }
   ],
   "source": [
    "from IPython.display import display, HTML\n",
    "display(HTML(\"<style>.container {width:100% !important; }</style>\"))"
   ]
  },
  {
   "cell_type": "code",
   "execution_count": 2,
   "id": "19db8a46-33b9-4ea2-ab7c-53ef80e0ef21",
   "metadata": {},
   "outputs": [],
   "source": [
    "import pandas as pd\n",
    "import numpy as np\n",
    "import matplotlib.pyplot as plt\n",
    "import seaborn as sns\n",
    "import os\n",
    "%matplotlib inline"
   ]
  },
  {
   "cell_type": "markdown",
   "id": "05c0b369-f227-471d-b337-251f44c977b6",
   "metadata": {},
   "source": [
    "# Step 2: Setting the directory and reading the data file"
   ]
  },
  {
   "cell_type": "markdown",
   "id": "90492783-f190-4405-a270-3d0dde7c7cca",
   "metadata": {},
   "source": [
    "# Setting Directory and Reading File"
   ]
  },
  {
   "cell_type": "code",
   "execution_count": 3,
   "id": "22130426-ee0d-4dbc-abdd-e59121ab71bb",
   "metadata": {},
   "outputs": [],
   "source": [
    "path = \"E:/My Folder/UTD/Semester/Fall_2023/MIS 6380 - Data Visualization\"\n",
    "data_dir = os.path.join(path, 'Crowd Sourced Grocery Prices V2.xlsx')\n",
    "data_output = os.path.join(path, 'Crowd Sourced Grocery Prices.xlsx')"
   ]
  },
  {
   "cell_type": "markdown",
   "id": "2b153976-d974-476d-806b-8c4a34faf569",
   "metadata": {},
   "source": [
    "# Exploring the data set"
   ]
  },
  {
   "cell_type": "code",
   "execution_count": 4,
   "id": "35ecf672-f82d-453e-a468-47a68903cc41",
   "metadata": {},
   "outputs": [
    {
     "data": {
      "text/plain": [
       "['Observations', 'Products']"
      ]
     },
     "execution_count": 4,
     "metadata": {},
     "output_type": "execute_result"
    }
   ],
   "source": [
    "df = pd.ExcelFile(data_dir)\n",
    "df.sheet_names"
   ]
  },
  {
   "cell_type": "code",
   "execution_count": 5,
   "id": "c4adadbf-431a-4cc2-b127-8c88827c3224",
   "metadata": {},
   "outputs": [],
   "source": [
    "df_observation = pd.read_excel(data_dir, sheet_name = 'Observations', date_format = True)"
   ]
  },
  {
   "cell_type": "code",
   "execution_count": 6,
   "id": "0b61b3d6-0126-40c6-be39-60b20488a8d4",
   "metadata": {},
   "outputs": [
    {
     "data": {
      "text/html": [
       "<div>\n",
       "<style scoped>\n",
       "    .dataframe tbody tr th:only-of-type {\n",
       "        vertical-align: middle;\n",
       "    }\n",
       "\n",
       "    .dataframe tbody tr th {\n",
       "        vertical-align: top;\n",
       "    }\n",
       "\n",
       "    .dataframe thead th {\n",
       "        text-align: right;\n",
       "    }\n",
       "</style>\n",
       "<table border=\"1\" class=\"dataframe\">\n",
       "  <thead>\n",
       "    <tr style=\"text-align: right;\">\n",
       "      <th></th>\n",
       "      <th>Country</th>\n",
       "      <th>City</th>\n",
       "      <th>Obs Date</th>\n",
       "      <th>Product Code</th>\n",
       "      <th>Quantity</th>\n",
       "      <th>Price</th>\n",
       "    </tr>\n",
       "  </thead>\n",
       "  <tbody>\n",
       "    <tr>\n",
       "      <th>0</th>\n",
       "      <td>Kenya</td>\n",
       "      <td>Eldoret</td>\n",
       "      <td>2009-01-01 00:00:00</td>\n",
       "      <td>52.0</td>\n",
       "      <td>1 kg</td>\n",
       "      <td>11.92</td>\n",
       "    </tr>\n",
       "    <tr>\n",
       "      <th>1</th>\n",
       "      <td>Pakistan</td>\n",
       "      <td>Attock</td>\n",
       "      <td>2009-01-01 00:00:00</td>\n",
       "      <td>44.0</td>\n",
       "      <td>1 kg</td>\n",
       "      <td>9.36</td>\n",
       "    </tr>\n",
       "    <tr>\n",
       "      <th>2</th>\n",
       "      <td>India</td>\n",
       "      <td>Nashik</td>\n",
       "      <td>2009-01-01 00:00:00</td>\n",
       "      <td>47.0</td>\n",
       "      <td>1 kg</td>\n",
       "      <td>6.47</td>\n",
       "    </tr>\n",
       "    <tr>\n",
       "      <th>3</th>\n",
       "      <td>Kenya</td>\n",
       "      <td>Eldoret</td>\n",
       "      <td>2009-01-01 00:00:00</td>\n",
       "      <td>52.0</td>\n",
       "      <td>1 kg</td>\n",
       "      <td>5.91</td>\n",
       "    </tr>\n",
       "    <tr>\n",
       "      <th>4</th>\n",
       "      <td>India</td>\n",
       "      <td>Nashik</td>\n",
       "      <td>2009-01-01 00:00:00</td>\n",
       "      <td>62.0</td>\n",
       "      <td>100 g</td>\n",
       "      <td>1.80</td>\n",
       "    </tr>\n",
       "  </tbody>\n",
       "</table>\n",
       "</div>"
      ],
      "text/plain": [
       "    Country     City             Obs Date  Product Code Quantity  Price\n",
       "0     Kenya  Eldoret  2009-01-01 00:00:00          52.0     1 kg  11.92\n",
       "1  Pakistan   Attock  2009-01-01 00:00:00          44.0     1 kg   9.36\n",
       "2     India   Nashik  2009-01-01 00:00:00          47.0     1 kg   6.47\n",
       "3     Kenya  Eldoret  2009-01-01 00:00:00          52.0     1 kg   5.91\n",
       "4     India   Nashik  2009-01-01 00:00:00          62.0    100 g   1.80"
      ]
     },
     "execution_count": 6,
     "metadata": {},
     "output_type": "execute_result"
    }
   ],
   "source": [
    "df_observation.head()"
   ]
  },
  {
   "cell_type": "code",
   "execution_count": 7,
   "id": "6b24a15e-ae24-4a7b-9a5e-04fc54797529",
   "metadata": {},
   "outputs": [],
   "source": [
    "df_products = pd.read_excel(data_dir, sheet_name = 'Products')"
   ]
  },
  {
   "cell_type": "code",
   "execution_count": 8,
   "id": "7be67e33-e0ee-429f-93ec-0c878163724e",
   "metadata": {},
   "outputs": [
    {
     "data": {
      "text/html": [
       "<div>\n",
       "<style scoped>\n",
       "    .dataframe tbody tr th:only-of-type {\n",
       "        vertical-align: middle;\n",
       "    }\n",
       "\n",
       "    .dataframe tbody tr th {\n",
       "        vertical-align: top;\n",
       "    }\n",
       "\n",
       "    .dataframe thead th {\n",
       "        text-align: right;\n",
       "    }\n",
       "</style>\n",
       "<table border=\"1\" class=\"dataframe\">\n",
       "  <thead>\n",
       "    <tr style=\"text-align: right;\">\n",
       "      <th></th>\n",
       "      <th>Product Code</th>\n",
       "      <th>Product Name</th>\n",
       "    </tr>\n",
       "  </thead>\n",
       "  <tbody>\n",
       "    <tr>\n",
       "      <th>0</th>\n",
       "      <td>11</td>\n",
       "      <td>Rice, long grain</td>\n",
       "    </tr>\n",
       "    <tr>\n",
       "      <th>1</th>\n",
       "      <td>12</td>\n",
       "      <td>Rice, white</td>\n",
       "    </tr>\n",
       "    <tr>\n",
       "      <th>2</th>\n",
       "      <td>13</td>\n",
       "      <td>Cornflakes, Kellogg's</td>\n",
       "    </tr>\n",
       "    <tr>\n",
       "      <th>3</th>\n",
       "      <td>14</td>\n",
       "      <td>Flour, wheat</td>\n",
       "    </tr>\n",
       "    <tr>\n",
       "      <th>4</th>\n",
       "      <td>15</td>\n",
       "      <td>Flour, maize</td>\n",
       "    </tr>\n",
       "  </tbody>\n",
       "</table>\n",
       "</div>"
      ],
      "text/plain": [
       "   Product Code           Product Name\n",
       "0            11       Rice, long grain\n",
       "1            12            Rice, white\n",
       "2            13  Cornflakes, Kellogg's\n",
       "3            14           Flour, wheat\n",
       "4            15           Flour, maize"
      ]
     },
     "execution_count": 8,
     "metadata": {},
     "output_type": "execute_result"
    }
   ],
   "source": [
    "df_products.head()"
   ]
  },
  {
   "cell_type": "markdown",
   "id": "5212c657-96af-437d-bdb9-44d000bb2212",
   "metadata": {},
   "source": [
    "# Step 3: Data Manipulation"
   ]
  },
  {
   "cell_type": "code",
   "execution_count": 9,
   "id": "bbaf5cbd-bbf6-495f-9824-2616b1a714de",
   "metadata": {},
   "outputs": [
    {
     "name": "stdout",
     "output_type": "stream",
     "text": [
      "<class 'pandas.core.frame.DataFrame'>\n",
      "RangeIndex: 961797 entries, 0 to 961796\n",
      "Data columns (total 6 columns):\n",
      " #   Column        Non-Null Count   Dtype  \n",
      "---  ------        --------------   -----  \n",
      " 0   Country       961732 non-null  object \n",
      " 1   City          961732 non-null  object \n",
      " 2   Obs Date      961732 non-null  object \n",
      " 3   Product Code  961732 non-null  float64\n",
      " 4   Quantity      961732 non-null  object \n",
      " 5   Price         931766 non-null  float64\n",
      "dtypes: float64(2), object(4)\n",
      "memory usage: 44.0+ MB\n"
     ]
    }
   ],
   "source": [
    "df_observation.info()"
   ]
  },
  {
   "cell_type": "code",
   "execution_count": 10,
   "id": "e042860f-bb8e-4f43-9f89-220c06c15f37",
   "metadata": {},
   "outputs": [
    {
     "data": {
      "text/plain": [
       "Country            65\n",
       "City               65\n",
       "Obs Date           65\n",
       "Product Code       65\n",
       "Quantity           65\n",
       "Price           30031\n",
       "dtype: int64"
      ]
     },
     "execution_count": 10,
     "metadata": {},
     "output_type": "execute_result"
    }
   ],
   "source": [
    "df_observation.isnull().sum()"
   ]
  },
  {
   "cell_type": "code",
   "execution_count": 11,
   "id": "c6770812-6b32-4947-a093-01994868bfce",
   "metadata": {},
   "outputs": [],
   "source": [
    "df_observation.dropna(axis = 0,subset=['Country','City','Obs Date','Product Code','Quantity'],inplace=True)"
   ]
  },
  {
   "cell_type": "code",
   "execution_count": 12,
   "id": "6427eebb-ec6c-420a-83d9-f99021cf1fc6",
   "metadata": {},
   "outputs": [
    {
     "data": {
      "text/plain": [
       "Country             0\n",
       "City                0\n",
       "Obs Date            0\n",
       "Product Code        0\n",
       "Quantity            0\n",
       "Price           29966\n",
       "dtype: int64"
      ]
     },
     "execution_count": 12,
     "metadata": {},
     "output_type": "execute_result"
    }
   ],
   "source": [
    "df_observation.isnull().sum()"
   ]
  },
  {
   "cell_type": "code",
   "execution_count": 13,
   "id": "6e424c34-01dc-4050-98dd-9d29fb18e9a6",
   "metadata": {},
   "outputs": [
    {
     "name": "stdout",
     "output_type": "stream",
     "text": [
      "<class 'pandas.core.frame.DataFrame'>\n",
      "RangeIndex: 30 entries, 0 to 29\n",
      "Data columns (total 2 columns):\n",
      " #   Column        Non-Null Count  Dtype \n",
      "---  ------        --------------  ----- \n",
      " 0   Product Code  30 non-null     int64 \n",
      " 1   Product Name  30 non-null     object\n",
      "dtypes: int64(1), object(1)\n",
      "memory usage: 612.0+ bytes\n"
     ]
    }
   ],
   "source": [
    "df_products.info()"
   ]
  },
  {
   "cell_type": "code",
   "execution_count": 14,
   "id": "e0f0f5c0-9904-49a5-a4c1-0d38d5b934fd",
   "metadata": {
    "scrolled": true
   },
   "outputs": [
    {
     "data": {
      "text/plain": [
       "Product Code    0\n",
       "Product Name    0\n",
       "dtype: int64"
      ]
     },
     "execution_count": 14,
     "metadata": {},
     "output_type": "execute_result"
    }
   ],
   "source": [
    "df_products.isnull().sum()"
   ]
  },
  {
   "cell_type": "markdown",
   "id": "15e88f54-85fc-40e5-a743-efeeb22a1b14",
   "metadata": {},
   "source": [
    "# Step 4: Imputing the blank cells in the price column "
   ]
  },
  {
   "cell_type": "code",
   "execution_count": 15,
   "id": "5dc5e26e-5afd-4c2b-8aa0-08a0284f917c",
   "metadata": {},
   "outputs": [
    {
     "data": {
      "image/png": "[encoded data removed]",
      "text/plain": [
       "<Figure size 2000x800 with 1 Axes>"
      ]
     },
     "metadata": {},
     "output_type": "display_data"
    },
    {
     "name": "stdout",
     "output_type": "stream",
     "text": [
      "Mean - 10.563621484227673\n",
      "Median - 8.91\n"
     ]
    }
   ],
   "source": [
    "plt.figure(figsize = (20,8))\n",
    "plt.hist(df_observation.Price,bins = 27)\n",
    "plt.show()\n",
    "print(\"Mean - \" + str(df_observation.Price.mean()))\n",
    "print(\"Median - \" + str(df_observation.Price.median()))"
   ]
  },
  {
   "cell_type": "code",
   "execution_count": 16,
   "id": "2f459dcb-1907-48d7-86ff-26d1b8f0d22c",
   "metadata": {},
   "outputs": [],
   "source": [
    "df_observation.Price.fillna(df_observation.Price.median(),inplace = True)"
   ]
  },
  {
   "cell_type": "code",
   "execution_count": 17,
   "id": "e53c8ca9-31af-4fda-a11b-85151957ca75",
   "metadata": {},
   "outputs": [
    {
     "data": {
      "text/plain": [
       "Country         0\n",
       "City            0\n",
       "Obs Date        0\n",
       "Product Code    0\n",
       "Quantity        0\n",
       "Price           0\n",
       "dtype: int64"
      ]
     },
     "execution_count": 17,
     "metadata": {},
     "output_type": "execute_result"
    }
   ],
   "source": [
    "df_observation.isna().sum()"
   ]
  },
  {
   "cell_type": "markdown",
   "id": "4306eefe-0ad5-47fe-b2ff-43a1e2eeeb8e",
   "metadata": {},
   "source": [
    "# Step 5: Removal of duplicate values"
   ]
  },
  {
   "cell_type": "code",
   "execution_count": 18,
   "id": "37e733c4-4a67-45d9-8bf9-ad7aac839535",
   "metadata": {},
   "outputs": [
    {
     "data": {
      "text/plain": [
       "['Kenya',\n",
       " 'Pakistan',\n",
       " 'India',\n",
       " 'Bangladesh',\n",
       " 'Indonesia',\n",
       " 'Nigeria',\n",
       " 'Philippines',\n",
       " 'Brazil',\n",
       " 'Brazel',\n",
       " 'Indonseia',\n",
       " 'Phillippines']"
      ]
     },
     "execution_count": 18,
     "metadata": {},
     "output_type": "execute_result"
    }
   ],
   "source": [
    "list(df_observation.Country.unique())"
   ]
  },
  {
   "cell_type": "code",
   "execution_count": 19,
   "id": "2b6dcde1-9e82-49fa-9acd-57bd2723bf77",
   "metadata": {},
   "outputs": [],
   "source": [
    "df_observation.Country = df_observation.Country.map({'Kenya' :'Kenya','Pakistan':'Pakistan','India':'India','Bangladesh':'Bangladesh','Indonesia':'Indonesia','Nigeria':'Nigeria','Philippines':'Philippines','Brazil':'Brazil','Brazel':'Brazil','Indonseia':'Indonesia','Phillippines':'Philippines'})"
   ]
  },
  {
   "cell_type": "code",
   "execution_count": 20,
   "id": "a984da0b-aca9-4e78-b8cd-2af1665110fd",
   "metadata": {},
   "outputs": [
    {
     "data": {
      "text/plain": [
       "['Kenya',\n",
       " 'Pakistan',\n",
       " 'India',\n",
       " 'Bangladesh',\n",
       " 'Indonesia',\n",
       " 'Nigeria',\n",
       " 'Philippines',\n",
       " 'Brazil']"
      ]
     },
     "execution_count": 20,
     "metadata": {},
     "output_type": "execute_result"
    }
   ],
   "source": [
    "list(df_observation.Country.unique())"
   ]
  },
  {
   "cell_type": "code",
   "execution_count": 21,
   "id": "061ac04f-a4a6-4193-ba4c-41f294155a8d",
   "metadata": {},
   "outputs": [
    {
     "data": {
      "text/plain": [
       "14397"
      ]
     },
     "execution_count": 21,
     "metadata": {},
     "output_type": "execute_result"
    }
   ],
   "source": [
    "df_observation.duplicated().sum()"
   ]
  },
  {
   "cell_type": "code",
   "execution_count": 22,
   "id": "383071ee-19f3-4622-97f0-1cd2b8c4555c",
   "metadata": {},
   "outputs": [],
   "source": [
    "dfObj = pd.DataFrame(df_observation)"
   ]
  },
  {
   "cell_type": "code",
   "execution_count": 23,
   "id": "32acaf08-3f6e-445f-b941-5523306b9367",
   "metadata": {},
   "outputs": [
    {
     "name": "stdout",
     "output_type": "stream",
     "text": [
      "Duplicate Rows except first occurrence based on all columns are :\n",
      "           Country        City             Obs Date  Product Code Quantity  \\\n",
      "121       Pakistan    Sargodha  2009-01-20 00:00:00          44.0     1 kg   \n",
      "127       Pakistan  Gujranwala  2009-01-20 00:00:00          44.0     1 kg   \n",
      "130       Pakistan    Sargodha  2009-01-20 00:00:00          52.0     1 kg   \n",
      "131       Pakistan  Gujranwala  2009-01-20 00:00:00          52.0     1 kg   \n",
      "141       Pakistan     Karachi                39834          44.0     1 kg   \n",
      "...            ...         ...                  ...           ...      ...   \n",
      "961079     Nigeria       Abuja  2009-03-29 00:00:00          22.0     1 kg   \n",
      "961146       Kenya     Nairobi  2009-04-22 00:00:00          23.0     1 kg   \n",
      "961159       Kenya     Nairobi  2009-04-24 00:00:00          24.0     1 kg   \n",
      "961424  Bangladesh       Dhaka  2009-04-06 00:00:00          24.0     1 kg   \n",
      "961437  Bangladesh       Dhaka  2009-03-28 00:00:00          24.0     1 kg   \n",
      "\n",
      "        Price  \n",
      "121      8.91  \n",
      "127      8.91  \n",
      "130      8.91  \n",
      "131      8.91  \n",
      "141      8.91  \n",
      "...       ...  \n",
      "961079  19.25  \n",
      "961146   0.33  \n",
      "961159   7.64  \n",
      "961424  19.17  \n",
      "961437   3.14  \n",
      "\n",
      "[14397 rows x 6 columns]\n"
     ]
    }
   ],
   "source": [
    "# Select duplicate rows except the first occurrence based on all columns\n",
    "duplicateRowsDF = dfObj[dfObj.duplicated()]\n",
    "print(\"Duplicate Rows except first occurrence based on all columns are :\")\n",
    "print(duplicateRowsDF)"
   ]
  },
  {
   "cell_type": "code",
   "execution_count": 24,
   "id": "3cfc61e8-e38d-45cc-93ae-d9bd37954dd7",
   "metadata": {},
   "outputs": [],
   "source": [
    "df_observation.drop_duplicates(subset=df_observation.columns,inplace=True)"
   ]
  },
  {
   "cell_type": "code",
   "execution_count": 25,
   "id": "3f4fe0ac-9461-4ff5-bdaf-7e2e5e6a27f0",
   "metadata": {},
   "outputs": [
    {
     "data": {
      "text/plain": [
       "0"
      ]
     },
     "execution_count": 25,
     "metadata": {},
     "output_type": "execute_result"
    }
   ],
   "source": [
    "df_observation.duplicated().sum()"
   ]
  },
  {
   "cell_type": "code",
   "execution_count": 26,
   "id": "b0f67edb-b4c2-4fc6-8968-4c75a1ffba16",
   "metadata": {},
   "outputs": [],
   "source": [
    "df_full = pd.merge(df_observation,df_products,how = 'outer')"
   ]
  },
  {
   "cell_type": "markdown",
   "id": "f632c82f-9fb2-4e78-9421-b8b5501cb25d",
   "metadata": {},
   "source": [
    "# Step 6: Merging both sheets present in the excel file"
   ]
  },
  {
   "cell_type": "markdown",
   "id": "dd98d35e-c352-405a-8a1d-5798f6794812",
   "metadata": {},
   "source": [
    "# Merging Both Data Sets "
   ]
  },
  {
   "cell_type": "code",
   "execution_count": 27,
   "id": "1a6e781b-4adb-4cf0-ac61-94e187a44ce3",
   "metadata": {},
   "outputs": [
    {
     "data": {
      "text/html": [
       "<div>\n",
       "<style scoped>\n",
       "    .dataframe tbody tr th:only-of-type {\n",
       "        vertical-align: middle;\n",
       "    }\n",
       "\n",
       "    .dataframe tbody tr th {\n",
       "        vertical-align: top;\n",
       "    }\n",
       "\n",
       "    .dataframe thead th {\n",
       "        text-align: right;\n",
       "    }\n",
       "</style>\n",
       "<table border=\"1\" class=\"dataframe\">\n",
       "  <thead>\n",
       "    <tr style=\"text-align: right;\">\n",
       "      <th></th>\n",
       "      <th>Country</th>\n",
       "      <th>City</th>\n",
       "      <th>Obs Date</th>\n",
       "      <th>Product Code</th>\n",
       "      <th>Quantity</th>\n",
       "      <th>Price</th>\n",
       "      <th>Product Name</th>\n",
       "    </tr>\n",
       "  </thead>\n",
       "  <tbody>\n",
       "    <tr>\n",
       "      <th>0</th>\n",
       "      <td>Kenya</td>\n",
       "      <td>Eldoret</td>\n",
       "      <td>2009-01-01 00:00:00</td>\n",
       "      <td>52.0</td>\n",
       "      <td>1 kg</td>\n",
       "      <td>11.92</td>\n",
       "      <td>Cooking salt</td>\n",
       "    </tr>\n",
       "    <tr>\n",
       "      <th>1</th>\n",
       "      <td>Kenya</td>\n",
       "      <td>Eldoret</td>\n",
       "      <td>2009-01-01 00:00:00</td>\n",
       "      <td>52.0</td>\n",
       "      <td>1 kg</td>\n",
       "      <td>5.91</td>\n",
       "      <td>Cooking salt</td>\n",
       "    </tr>\n",
       "    <tr>\n",
       "      <th>2</th>\n",
       "      <td>Kenya</td>\n",
       "      <td>Eldoret</td>\n",
       "      <td>2009-01-02 00:00:00</td>\n",
       "      <td>52.0</td>\n",
       "      <td>1 kg</td>\n",
       "      <td>16.50</td>\n",
       "      <td>Cooking salt</td>\n",
       "    </tr>\n",
       "    <tr>\n",
       "      <th>3</th>\n",
       "      <td>Kenya</td>\n",
       "      <td>Eldoret</td>\n",
       "      <td>2009-01-02 00:00:00</td>\n",
       "      <td>52.0</td>\n",
       "      <td>1 kg</td>\n",
       "      <td>9.77</td>\n",
       "      <td>Cooking salt</td>\n",
       "    </tr>\n",
       "    <tr>\n",
       "      <th>4</th>\n",
       "      <td>Pakistan</td>\n",
       "      <td>Rawalpindi</td>\n",
       "      <td>2009-01-03 00:00:00</td>\n",
       "      <td>52.0</td>\n",
       "      <td>1 kg</td>\n",
       "      <td>17.80</td>\n",
       "      <td>Cooking salt</td>\n",
       "    </tr>\n",
       "  </tbody>\n",
       "</table>\n",
       "</div>"
      ],
      "text/plain": [
       "    Country        City             Obs Date  Product Code Quantity  Price  \\\n",
       "0     Kenya     Eldoret  2009-01-01 00:00:00          52.0     1 kg  11.92   \n",
       "1     Kenya     Eldoret  2009-01-01 00:00:00          52.0     1 kg   5.91   \n",
       "2     Kenya     Eldoret  2009-01-02 00:00:00          52.0     1 kg  16.50   \n",
       "3     Kenya     Eldoret  2009-01-02 00:00:00          52.0     1 kg   9.77   \n",
       "4  Pakistan  Rawalpindi  2009-01-03 00:00:00          52.0     1 kg  17.80   \n",
       "\n",
       "   Product Name  \n",
       "0  Cooking salt  \n",
       "1  Cooking salt  \n",
       "2  Cooking salt  \n",
       "3  Cooking salt  \n",
       "4  Cooking salt  "
      ]
     },
     "execution_count": 27,
     "metadata": {},
     "output_type": "execute_result"
    }
   ],
   "source": [
    "df_full.head()"
   ]
  },
  {
   "cell_type": "code",
   "execution_count": 28,
   "id": "d286c609-f382-4ce1-8566-2dbbe0d25381",
   "metadata": {},
   "outputs": [],
   "source": [
    "df_full.sort_values(by='Country',inplace = True)"
   ]
  },
  {
   "cell_type": "code",
   "execution_count": 29,
   "id": "ba7a829d-ff54-48b7-a63e-5add57e7a10b",
   "metadata": {},
   "outputs": [
    {
     "data": {
      "text/html": [
       "<div>\n",
       "<style scoped>\n",
       "    .dataframe tbody tr th:only-of-type {\n",
       "        vertical-align: middle;\n",
       "    }\n",
       "\n",
       "    .dataframe tbody tr th {\n",
       "        vertical-align: top;\n",
       "    }\n",
       "\n",
       "    .dataframe thead th {\n",
       "        text-align: right;\n",
       "    }\n",
       "</style>\n",
       "<table border=\"1\" class=\"dataframe\">\n",
       "  <thead>\n",
       "    <tr style=\"text-align: right;\">\n",
       "      <th></th>\n",
       "      <th>Country</th>\n",
       "      <th>City</th>\n",
       "      <th>Obs Date</th>\n",
       "      <th>Product Code</th>\n",
       "      <th>Quantity</th>\n",
       "      <th>Price</th>\n",
       "      <th>Product Name</th>\n",
       "    </tr>\n",
       "  </thead>\n",
       "  <tbody>\n",
       "    <tr>\n",
       "      <th>237535</th>\n",
       "      <td>Bangladesh</td>\n",
       "      <td>Dhaka</td>\n",
       "      <td>2012-04-16 00:00:00</td>\n",
       "      <td>14.0</td>\n",
       "      <td>1 kg</td>\n",
       "      <td>0.96193</td>\n",
       "      <td>Flour, wheat</td>\n",
       "    </tr>\n",
       "    <tr>\n",
       "      <th>256654</th>\n",
       "      <td>Bangladesh</td>\n",
       "      <td>Chittagong</td>\n",
       "      <td>2011-02-27 00:00:00</td>\n",
       "      <td>32.0</td>\n",
       "      <td>6 pc</td>\n",
       "      <td>6.75000</td>\n",
       "      <td>Eggs</td>\n",
       "    </tr>\n",
       "    <tr>\n",
       "      <th>692408</th>\n",
       "      <td>Bangladesh</td>\n",
       "      <td>Chittagong</td>\n",
       "      <td>2010-02-16 00:00:00</td>\n",
       "      <td>31.0</td>\n",
       "      <td>1 L</td>\n",
       "      <td>16.76000</td>\n",
       "      <td>Milk</td>\n",
       "    </tr>\n",
       "    <tr>\n",
       "      <th>692405</th>\n",
       "      <td>Bangladesh</td>\n",
       "      <td>Dhaka</td>\n",
       "      <td>2010-02-16 00:00:00</td>\n",
       "      <td>31.0</td>\n",
       "      <td>1 L</td>\n",
       "      <td>17.31000</td>\n",
       "      <td>Milk</td>\n",
       "    </tr>\n",
       "    <tr>\n",
       "      <th>692403</th>\n",
       "      <td>Bangladesh</td>\n",
       "      <td>Khulna</td>\n",
       "      <td>2010-02-16 00:00:00</td>\n",
       "      <td>31.0</td>\n",
       "      <td>1 L</td>\n",
       "      <td>17.59000</td>\n",
       "      <td>Milk</td>\n",
       "    </tr>\n",
       "  </tbody>\n",
       "</table>\n",
       "</div>"
      ],
      "text/plain": [
       "           Country        City             Obs Date  Product Code Quantity  \\\n",
       "237535  Bangladesh       Dhaka  2012-04-16 00:00:00          14.0     1 kg   \n",
       "256654  Bangladesh  Chittagong  2011-02-27 00:00:00          32.0     6 pc   \n",
       "692408  Bangladesh  Chittagong  2010-02-16 00:00:00          31.0      1 L   \n",
       "692405  Bangladesh       Dhaka  2010-02-16 00:00:00          31.0      1 L   \n",
       "692403  Bangladesh      Khulna  2010-02-16 00:00:00          31.0      1 L   \n",
       "\n",
       "           Price  Product Name  \n",
       "237535   0.96193  Flour, wheat  \n",
       "256654   6.75000          Eggs  \n",
       "692408  16.76000          Milk  \n",
       "692405  17.31000          Milk  \n",
       "692403  17.59000          Milk  "
      ]
     },
     "execution_count": 29,
     "metadata": {},
     "output_type": "execute_result"
    }
   ],
   "source": [
    "df_full.head()"
   ]
  },
  {
   "cell_type": "code",
   "execution_count": 30,
   "id": "c7b6b02e-6397-4939-8164-a71f4d28e2c4",
   "metadata": {},
   "outputs": [],
   "source": [
    "df_full.to_excel(data_output,columns=['Country','City','Obs Date','Product Code','Quantity','Price','Product Name'])"
   ]
  },
  {
   "cell_type": "code",
   "execution_count": 31,
   "id": "8c9bfae7-2a13-48c9-aecf-33782e6a258d",
   "metadata": {},
   "outputs": [],
   "source": [
    "path = \"E:/My Folder/UTD/Semester/Fall_2023/MIS 6380 - Data Visualization\"\n",
    "data_dir = os.path.join(path, 'Crowd Sourced Grocery Prices V2.xlsx')\n",
    "data_output = os.path.join(path, 'Crowd Sourced Grocery Prices.xlsx')"
   ]
  },
  {
   "cell_type": "code",
   "execution_count": null,
   "id": "895e1a01-b3aa-4c21-85bd-61109d07c602",
   "metadata": {},
   "outputs": [],
   "source": []
  }
 ],
 "metadata": {
  "kernelspec": {
   "display_name": "Python 3 (ipykernel)",
   "language": "python",
   "name": "python3"
  },
  "language_info": {
   "codemirror_mode": {
    "name": "ipython",
    "version": 3
   },
   "file_extension": ".py",
   "mimetype": "text/x-python",
   "name": "python",
   "nbconvert_exporter": "python",
   "pygments_lexer": "ipython3",
   "version": "3.11.4"
  }
 },
 "nbformat": 4,
 "nbformat_minor": 5
}
